{
 "cells": [
  {
   "cell_type": "markdown",
   "metadata": {},
   "source": [
    "# Team 16 Toyota SmartHome ML Training"
   ]
  },
  {
   "cell_type": "markdown",
   "metadata": {},
   "source": [
    "## Setting up dependencies"
   ]
  },
  {
   "cell_type": "markdown",
   "metadata": {},
   "source": [
    "#### Check CUDA Version\n",
    "To check if CUDA is available, perform the following:<br>\n",
    "1) Go to device manager\n",
    "2) Expand Display adapters\n",
    "3) Go to https://en.wikipedia.org/wiki/CUDA#GPUs_supported <br>(https://developer.nvidia.com/cuda-gpus has an outdated list e.g. GTX 1050 Ti is not included)\n",
    "4) If exists, Open Command prompt and execute \"nvidia-smi\" or \"nvcc --version\"<br>\n",
    "5) Install pytorch according the CUDA version displayed.<br>\n",
    "<b>CUDA 10.2</b>: No longer available for windows<br>\n",
    "<b>CUDA 11.3</b>: conda install pytorch torchvision torchaudio cudatoolkit=11.3 -c pytorch<br>\n",
    "<b>CUDA 11.6</b>: conda install pytorch torchvision torchaudio cudatoolkit=11.6 -c pytorch -c conda-forge<br>\n",
    "<b>CPU</b>: conda install pytorch torchvision torchaudio cpuonly -c pytorch<br>"
   ]
  },
  {
   "cell_type": "markdown",
   "metadata": {},
   "source": [
    "#### Additional Dependencies"
   ]
  },
  {
   "cell_type": "code",
   "execution_count": null,
   "metadata": {},
   "outputs": [],
   "source": [
    "%pip install timm==0.4.12\n",
    "%pip install sklearn\n",
    "%pip install pickle-mixin\n",
    "%pip install tqdm\n",
    "%pip install numpy\n",
    "%pip install ipywidgets\n",
    "%pip install ipython\n",
    "%pip install ipyfilechooser"
   ]
  },
  {
   "cell_type": "markdown",
   "metadata": {},
   "source": [
    "#### Importing Libraries"
   ]
  },
  {
   "cell_type": "code",
   "execution_count": null,
   "metadata": {},
   "outputs": [],
   "source": [
    "from ipywidgets import widgets\n",
    "from IPython.display import display, HTML\n",
    "import os\n",
    "import io\n",
    "import base64\n",
    "import json\n",
    "from ipyfilechooser import FileChooser"
   ]
  },
  {
   "cell_type": "markdown",
   "metadata": {},
   "source": [
    "## 2. Data Exploration"
   ]
  },
  {
   "cell_type": "markdown",
   "metadata": {},
   "source": [
    "It is a section for loading and displaying video data from TSU."
   ]
  },
  {
   "cell_type": "markdown",
   "metadata": {},
   "source": [
    "### 2.1 Upload Multiple input files (under 10 MB)"
   ]
  },
  {
   "cell_type": "code",
   "execution_count": null,
   "metadata": {},
   "outputs": [],
   "source": [
    "inputFile_uploader = widgets.FileUpload(\n",
    "    accept='.mp4', \n",
    "    multiple=True  # True to accept multiple files upload\n",
    ")\n",
    "display(inputFile_uploader)"
   ]
  },
  {
   "cell_type": "markdown",
   "metadata": {},
   "source": [
    "The following cell is to upload the file that you have uploaded previously in the respective folder."
   ]
  },
  {
   "cell_type": "code",
   "execution_count": null,
   "metadata": {},
   "outputs": [],
   "source": []
  },
  {
   "cell_type": "markdown",
   "metadata": {},
   "source": [
    "### Displaying video with generated captions<br>\n",
    "Here, we will look at selecting a video to generate the captions using the pre-trained model before displaying the video with the captions."
   ]
  },
  {
   "cell_type": "code",
   "execution_count": null,
   "metadata": {},
   "outputs": [],
   "source": [
    "video_folder = os.listdir('data/video')\n",
    "\n",
    "list_of_video = {}\n",
    "for video in video_folder:\n",
    "    # remove hidden file especially for macOS\n",
    "    if not video.startswith('.'):\n",
    "        list_of_video[video] = video\n",
    "        \n",
    "# read action and frame object from file\n",
    "def readCaptionFile(filename,videoName):\n",
    "    # Opening JSON file\n",
    "    f = open(filename)\n",
    "\n",
    "    # returns JSON object as \n",
    "    # a dictionary\n",
    "    data = json.load(f)\n",
    "\n",
    "    # Iterating through the json\n",
    "    # Closing file\n",
    "    f.close()\n",
    "    return data[videoName][\"actions\"]\n",
    "\n",
    "# convert frame to time\n",
    "def convertFrameToTime(frame):\n",
    "    seconds = int(frame/25)\n",
    "    minutes = \"00\"\n",
    "    if seconds >= 60:\n",
    "        minutes = str(seconds // 60)\n",
    "        seconds = seconds % 60\n",
    "    if len(minutes) == 1:\n",
    "        minutes = \"0\" + minutes\n",
    "    seconds = str(seconds)\n",
    "    #may need handle hour\n",
    "    if len(seconds) == 1:\n",
    "        seconds = \"0\" + seconds \n",
    "    return (minutes + \":\" + seconds + \".000\")\n",
    "\n",
    "# read reference text from txt file\n",
    "def readReferenceFile(refFile):\n",
    "    referenceDict = {}\n",
    "    with open(refFile) as f:\n",
    "        lines = f.readlines()\n",
    "    for i in lines:\n",
    "        x = i.split()\n",
    "        referenceDict[str(x[0])] = x[1]\n",
    "    return referenceDict\n",
    "\n",
    "# create caption file\n",
    "def formatCaptionFile(captionList, reference, captionPath):\n",
    "    start = \"WEBVTT\\n\\n\"\n",
    "    captions = []\n",
    "    for i in captionList:\n",
    "        text = reference[str(i[0])]\n",
    "        lines = convertFrameToTime(i[1]) + \" --> \" + convertFrameToTime(i[2]) + \"\\n\" + text + \"\\n\\n\"\n",
    "        captions.append(lines)\n",
    "    f = open(captionPath, \"w\")\n",
    "    f.write(start)\n",
    "    f.writelines(captions)\n",
    "    f.close()\n",
    "\n",
    "video_dropdown = widgets.Dropdown(\n",
    "    options = list_of_video,\n",
    "    description = 'Videos',\n",
    ")\n",
    "\n",
    "video_src = 'data/video/' + video_dropdown.value\n",
    "\n",
    "def play_video(video_src,caption_src):\n",
    "    video = io.open(video_src, 'r+b').read()\n",
    "    encoded = base64.b64encode(video)\n",
    "    return(HTML(data='''<video width=\"650\" height=\"360\" controls>\n",
    "        <source src=\"data:video/mp4;base64,{0}\" type=\"video/mp4\" />\n",
    "        <track kind=\"captions\" src={1} srclang=\"en\" label=\"English\" default>\n",
    "        </video>'''.format(encoded.decode('ascii'),caption_src)))\n",
    "\n",
    "\n",
    "# video dropdown onchange function\n",
    "def video_on_change(change):\n",
    "    if change['type'] == 'change' and change['name'] == 'value':\n",
    "        change['new']\n",
    "        global video_src \n",
    "        video_src = 'data/video/'+ video_dropdown.value\n",
    "        \n",
    "          \n",
    "# display video dropdown\n",
    "video_dropdown.observe(video_on_change)\n",
    "display(video_dropdown) \n"
   ]
  },
  {
   "cell_type": "code",
   "execution_count": null,
   "metadata": {},
   "outputs": [],
   "source": [
    "# caption\n",
    "videoName = video_dropdown.value.split(\".\")\n",
    "#location of reference are place at root\n",
    "ref = readReferenceFile('all_labels.txt')\n",
    "# may need change the caption path to dynamic\n",
    "captionPath = \"output_caption_video/\" + videoName[0] + \".vtt\"\n",
    "# model result file should be some directory, here using root \n",
    "captionList = readCaptionFile('smarthome_CS_51.json',videoName[0])\n",
    "formatCaptionFile(captionList,ref,captionPath)\n",
    "\n",
    "\n",
    "video = video_src.split('/')[-1]\n",
    "print(\"Currently playing : \" + video)\n",
    "play_video(video_src, captionPath)"
   ]
  },
  {
   "cell_type": "markdown",
   "metadata": {},
   "source": [
    "## Evaluation"
   ]
  },
  {
   "cell_type": "code",
   "execution_count": null,
   "metadata": {},
   "outputs": [],
   "source": [
    "batchsize_slider = widgets.IntSlider(\n",
    "    value=2,\n",
    "    min=1,\n",
    "    max=4,\n",
    "    step=1,\n",
    "    description='Batch size:',\n",
    "    continuous_update=False\n",
    ")\n",
    "\n",
    "epoch_slider = widgets.IntSlider(\n",
    "    value=1000,\n",
    "    min=0,\n",
    "    max=1000,\n",
    "    step=10,\n",
    "    description='Epochs:',\n",
    "    continuous_update=False\n",
    ")\n",
    "\n",
    "\n",
    "display(epoch_slider)\n",
    "display(batchsize_slider)"
   ]
  },
  {
   "cell_type": "code",
   "execution_count": null,
   "metadata": {},
   "outputs": [],
   "source": [
    "epoch = epoch_slider.value\n",
    "batchsize = batchsize_slider.value\n",
    "pretrained_model_folder = os.listdir('data/pretrained_model')\n",
    "\n",
    "list_of_ptModels = {}\n",
    "for model in pretrained_model_folder:\n",
    "    # remove hidden file especially for macOS\n",
    "    if not model.startswith('.'):\n",
    "        list_of_ptModels[model] = model\n",
    "\n",
    "evaluation_dropdown = widgets.Dropdown(\n",
    "    options = list_of_ptModels,\n",
    "    description = 'evaluation',\n",
    ")\n",
    "\n",
    "model_src = 'data/pretrained_model/' + evaluation_dropdown.value\n",
    "\n",
    "# evaluation dropdown onchange function\n",
    "def evaluation_on_change(change):\n",
    "    if change['type'] == 'change' and change['name'] == 'value':\n",
    "        change['new']\n",
    "        global model_src \n",
    "        model_src = 'data/video/'+ evaluation_dropdown.value\n",
    "        \n",
    "          \n",
    "# display evaluation dropdown\n",
    "evaluation_dropdown.observe(evaluation_on_change)\n",
    "display(evaluation_dropdown) "
   ]
  },
  {
   "cell_type": "code",
   "execution_count": null,
   "metadata": {},
   "outputs": [],
   "source": [
    "##Evaluate Model\n",
    "run = f\"python test.py -dataset TSU -mode rgb -split_setting CS -model PDAN -train False -num_channel 512 -lr 0.0002 -kernelsize 3 -APtype map -batch_size 1 -comp_info TSU_CS_RGB_PDAN -load_model {model_src}\"\n",
    "!{run}\n"
   ]
  },
  {
   "cell_type": "code",
   "execution_count": null,
   "metadata": {},
   "outputs": [],
   "source": []
  }
 ],
 "metadata": {
  "kernelspec": {
   "display_name": "Python 3 (ipykernel)",
   "language": "python",
   "name": "python3"
  },
  "language_info": {
   "codemirror_mode": {
    "name": "ipython",
    "version": 3
   },
   "file_extension": ".py",
   "mimetype": "text/x-python",
   "name": "python",
   "nbconvert_exporter": "python",
   "pygments_lexer": "ipython3",
   "version": "3.10.4"
  },
  "vscode": {
   "interpreter": {
    "hash": "7dfdfc69e8be1f7abebd0f64d7ee31d33ed11d87d01c6db508d515b37a3821e8"
   }
  }
 },
 "nbformat": 4,
 "nbformat_minor": 2
}
