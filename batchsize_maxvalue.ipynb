{
 "cells": [
  {
   "cell_type": "code",
   "execution_count": null,
   "metadata": {},
   "outputs": [],
   "source": [
    "from ipywidgets import widgets\n",
    "import IPython.display\n",
    "from IPython.display import display"
   ]
  },
  {
   "cell_type": "markdown",
   "metadata": {},
   "source": [
    "# Batch size and Max Value"
   ]
  },
  {
   "cell_type": "code",
   "execution_count": null,
   "metadata": {},
   "outputs": [],
   "source": [
    "batch_size_slider = widgets.IntSlider(\n",
    "    value=4,\n",
    "    min=4,\n",
    "    max=68,\n",
    "    step=4,\n",
    "    description='Batch size:',\n",
    "    continuous_update=False\n",
    ")\n",
    "\n",
    "max_value_slider = widgets.IntSlider(\n",
    "    value=2,\n",
    "    min=2,\n",
    "    max=10,\n",
    "    step=1,\n",
    "    description='Max Value:',\n",
    "    continuous_update=False\n",
    ")\n",
    "\n",
    "display(batch_size_slider)\n",
    "display(max_value_slider)"
   ]
  },
  {
   "cell_type": "code",
   "execution_count": null,
   "metadata": {},
   "outputs": [],
   "source": [
    "print(batch_size_slider.value)\n",
    "print(max_value_slider.value)"
   ]
  },
  {
   "cell_type": "markdown",
   "metadata": {},
   "source": [
    "# Choose Dataset subfolder"
   ]
  },
  {
   "cell_type": "code",
   "execution_count": null,
   "metadata": {},
   "outputs": [],
   "source": [
    "from ipyfilechooser import FileChooser\n",
    "import os\n",
    "\n",
    "dataset_subfolder_chooser = FileChooser(\n",
    "                                os.getcwd() + '/data',\n",
    "                                title='<b>Choose Dataset subfolder:</b>',\n",
    "                                sandbox_path= os.getcwd()\n",
    "                            )\n",
    "print(os.getcwd())\n",
    "display(dataset_subfolder_chooser)"
   ]
  },
  {
   "cell_type": "code",
   "execution_count": null,
   "metadata": {},
   "outputs": [],
   "source": [
    "print(dataset_subfolder_chooser.selected)"
   ]
  },
  {
   "cell_type": "code",
   "execution_count": null,
   "metadata": {},
   "outputs": [],
   "source": [
    "list_subfolder = os.listdir('data')\n",
    "\n",
    "subfolder = widgets.Dropdown(\n",
    "    options = list_subfolder,\n",
    "    description='Choose Dataset subfolder: '\n",
    ")\n",
    "\n",
    "display(subfolder)"
   ]
  },
  {
   "cell_type": "code",
   "execution_count": null,
   "metadata": {},
   "outputs": [],
   "source": [
    "print(subfolder.value)"
   ]
  },
  {
   "cell_type": "markdown",
   "metadata": {},
   "source": [
    "# Input text field for epochs and max number"
   ]
  },
  {
   "cell_type": "code",
   "execution_count": null,
   "metadata": {},
   "outputs": [],
   "source": [
    "epochs_input = widgets.IntText(\n",
    "    value=1000,\n",
    "    description='Epochs: ',\n",
    "    disabled=False\n",
    ")\n",
    "\n",
    "maxNum_input = widgets.IntText(\n",
    "    value=1000,\n",
    "    description='Max Number: ',\n",
    "    disabled=False\n",
    ")\n",
    "\n",
    "display(epochs_input)\n",
    "display(maxNum_input)"
   ]
  },
  {
   "cell_type": "code",
   "execution_count": null,
   "metadata": {},
   "outputs": [],
   "source": [
    "print(type(epochs_input.value))\n",
    "print(type(maxNum_input.value))"
   ]
  }
 ],
 "metadata": {
  "interpreter": {
   "hash": "53938d3759d9726193647cec331d3238c65b3ca2caa93a9675f754f9b1d34b4e"
  },
  "kernelspec": {
   "display_name": "Python 3.10.4 ('ict3104')",
   "language": "python",
   "name": "python3"
  },
  "language_info": {
   "codemirror_mode": {
    "name": "ipython",
    "version": 3
   },
   "file_extension": ".py",
   "mimetype": "text/x-python",
   "name": "python",
   "nbconvert_exporter": "python",
   "pygments_lexer": "ipython3",
   "version": "3.10.4"
  },
  "orig_nbformat": 4
 },
 "nbformat": 4,
 "nbformat_minor": 2
}
