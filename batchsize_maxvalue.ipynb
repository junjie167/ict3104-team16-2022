{
 "cells": [
  {
   "cell_type": "code",
   "execution_count": null,
   "metadata": {},
   "outputs": [],
   "source": [
    "from ipywidgets import widgets\n",
    "import IPython.display\n",
    "from IPython.display import display"
   ]
  },
  {
   "cell_type": "code",
   "execution_count": null,
   "metadata": {},
   "outputs": [],
   "source": [
    "batch_size_slider = widgets.IntSlider(\n",
    "    value=4,\n",
    "    min=4,\n",
    "    max=68,\n",
    "    step=4,\n",
    "    description='Batch size:',\n",
    "    continuous_update=False\n",
    ")\n",
    "\n",
    "max_value_slider = widgets.IntSlider(\n",
    "    value=2,\n",
    "    min=2,\n",
    "    max=10,\n",
    "    step=1,\n",
    "    description='Max Value:',\n",
    "    continuous_update=False\n",
    ")\n",
    "\n",
    "display(batch_size_slider)\n",
    "display(max_value_slider)"
   ]
  },
  {
   "cell_type": "code",
   "execution_count": null,
   "metadata": {},
   "outputs": [],
   "source": [
    "print(batch_size_slider.value)\n",
    "print(max_value_slider.value)"
   ]
  }
 ],
 "metadata": {
  "kernelspec": {
   "display_name": "Python 3.10.8 64-bit",
   "language": "python",
   "name": "python3"
  },
  "language_info": {
   "codemirror_mode": {
    "name": "ipython",
    "version": 3
   },
   "file_extension": ".py",
   "mimetype": "text/x-python",
   "name": "python",
   "nbconvert_exporter": "python",
   "pygments_lexer": "ipython3",
   "version": "3.10.8"
  },
  "orig_nbformat": 4,
  "vscode": {
   "interpreter": {
    "hash": "0f2f6c680cf484319d387fabac80ca4ff4fc33965036e02100b3fe02600f1423"
   }
  }
 },
 "nbformat": 4,
 "nbformat_minor": 2
}
