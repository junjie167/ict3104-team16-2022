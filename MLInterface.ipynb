{
 "cells": [
  {
   "cell_type": "markdown",
   "metadata": {},
   "source": [
    "# Team 16 Toyota SmartHome ML Training"
   ]
  },
  {
   "cell_type": "markdown",
   "metadata": {},
   "source": [
    "## Setting up dependencies"
   ]
  },
  {
   "cell_type": "markdown",
   "metadata": {},
   "source": [
    "#### Check CUDA Version\n",
    "To check if CUDA is available, perform the following:<br>\n",
    "1) Go to device manager\n",
    "2) Expand Display adapters\n",
    "3) Go to https://en.wikipedia.org/wiki/CUDA#GPUs_supported <br>(https://developer.nvidia.com/cuda-gpus has an outdated list e.g. GTX 1050 Ti is not included)\n",
    "4) If exists, Open Command prompt and execute \"nvidia-smi\" or \"nvcc --version\"<br>\n",
    "5) Install pytorch according the CUDA version displayed.<br>\n",
    "<b>CUDA 10.2</b>: No longer available for windows<br>\n",
    "<b>CUDA 11.3</b>: conda install pytorch torchvision torchaudio cudatoolkit=11.3 -c pytorch<br>\n",
    "<b>CUDA 11.6</b>: conda install pytorch torchvision torchaudio cudatoolkit=11.6 -c pytorch -c conda-forge<br>\n",
    "<b>CPU</b>: conda install pytorch torchvision torchaudio cpuonly -c pytorch<br>"
   ]
  },
  {
   "cell_type": "markdown",
   "metadata": {},
   "source": [
    "#### Additional Dependencies"
   ]
  },
  {
   "cell_type": "markdown",
   "metadata": {},
   "source": [
    "Setup Virtual Environment\n",
    "Run in Terminal:\n",
    "- virtualenv .venv\n",
    "- pip install -r requirements.txt"
   ]
  },
  {
   "cell_type": "markdown",
   "metadata": {},
   "source": [
    "<!-- #### Importing Libraries -->"
   ]
  },
  {
   "cell_type": "code",
   "execution_count": 2,
   "metadata": {},
   "outputs": [],
   "source": [
    "from ipywidgets import widgets, Button\n",
    "from IPython.display import display, HTML, Video\n",
    "from ipyfilechooser import FileChooser\n",
    "import zipfile as zipfile\n",
    "import os\n",
    "import io\n",
    "import base64\n",
    "import json\n"
   ]
  },
  {
   "cell_type": "markdown",
   "metadata": {},
   "source": [
    "### Hide code cells"
   ]
  },
  {
   "cell_type": "code",
   "execution_count": 16,
   "metadata": {},
   "outputs": [
    {
     "data": {
      "text/html": [
       "<script>\n",
       "code_show=true; \n",
       "function code_toggle() {\n",
       " if (code_show){\n",
       " $('div.input').hide();\n",
       " } else {\n",
       " $('div.input').show();\n",
       " }\n",
       " code_show = !code_show\n",
       "} \n",
       "$( document ).ready(code_toggle);\n",
       "</script>\n",
       "<form action=\"javascript:code_toggle()\"><input type=\"submit\" value=\"Click here to toggle on/off the raw code.\"></form>"
      ],
      "text/plain": [
       "<IPython.core.display.HTML object>"
      ]
     },
     "execution_count": 16,
     "metadata": {},
     "output_type": "execute_result"
    }
   ],
   "source": [
    "from IPython.display import HTML\n",
    "\n",
    "HTML('''<script>\n",
    "code_show=true; \n",
    "function code_toggle() {\n",
    " if (code_show){\n",
    " $('div.input').hide();\n",
    " } else {\n",
    " $('div.input').show();\n",
    " }\n",
    " code_show = !code_show\n",
    "} \n",
    "$( document ).ready(code_toggle);\n",
    "</script>\n",
    "<form action=\"javascript:code_toggle()\"><input type=\"submit\" value=\"Click here to toggle on/off the raw code.\"></form>''')"
   ]
  },
  {
   "cell_type": "markdown",
   "metadata": {},
   "source": [
    "<!-- ### Go to: -->"
   ]
  },
  {
   "cell_type": "markdown",
   "metadata": {},
   "source": [
    "<!-- <a href=\"#TSU\">Toyota TSU section</a><br>\n",
    "<a href=\"#STEP\">Nvidia STEP section</a><br>\n",
    "<a href='#MS-TCT'>MS-TCT section</a> -->"
   ]
  },
  {
   "cell_type": "markdown",
   "metadata": {},
   "source": [
    "## Data Exploration"
   ]
  },
  {
   "cell_type": "markdown",
   "metadata": {},
   "source": [
    "### File Upload"
   ]
  },
  {
   "cell_type": "markdown",
   "metadata": {},
   "source": [
    "The following cell is to upload the file in the respective folder."
   ]
  },
  {
   "cell_type": "code",
   "execution_count": 17,
   "metadata": {},
   "outputs": [
    {
     "data": {
      "application/vnd.jupyter.widget-view+json": {
       "model_id": "cc43de6baf854e37aecdd594271a471a",
       "version_major": 2,
       "version_minor": 0
      },
      "text/plain": [
       "FileChooser(path='C:\\Users', filename='', title='', show_hidden=False, select_desc='Select', change_desc='Chan…"
      ]
     },
     "metadata": {},
     "output_type": "display_data"
    },
    {
     "data": {
      "application/vnd.jupyter.widget-view+json": {
       "model_id": "f4e73c26a97c41869f6ad2e256a46f5e",
       "version_major": 2,
       "version_minor": 0
      },
      "text/plain": [
       "Button(description='Confirm Upload', style=ButtonStyle(), tooltip='Confirm')"
      ]
     },
     "metadata": {},
     "output_type": "display_data"
    },
    {
     "data": {
      "application/vnd.jupyter.widget-view+json": {
       "model_id": "cf3eabc0be284836a9370abd80f1f5de",
       "version_major": 2,
       "version_minor": 0
      },
      "text/plain": [
       "Output()"
      ]
     },
     "metadata": {},
     "output_type": "display_data"
    }
   ],
   "source": [
    "# Creates FileChooser and setting default directory (https://pypi.org/project/ipyfilechooser/)\n",
    "fc = FileChooser('/Users')\n",
    "# Restrict navigation to /Users\n",
    "fc.sandbox_path = '/Users'\n",
    "# Change hidden files\n",
    "fc.show_hidden = False\n",
    "# Customize dir icon\n",
    "# fc.dir_icon = '/'\n",
    "# fc.dir_icon_append = True\n",
    "def submit_upload(b):\n",
    "    fn = fc.selected_filename\n",
    "    identified_filetype = \"\"\n",
    "    if fn.endswith('.zip'):\n",
    "        fn = fc.selected_filename.replace('.zip', '')\n",
    "        with zipfile.ZipFile(fc.selected_path+\"\\\\\"+fc.selected_filename, 'r') as zipObj:\n",
    "            zip_content = zipObj.namelist()\n",
    "            for zip_content_item in zip_content:\n",
    "                if zip_content_item.endswith('.mp4'):\n",
    "                    zipObj.extract(zip_content_item, 'Data_Storage\\\\Videos')\n",
    "                    if identified_filetype != \"\":\n",
    "                        identified_filetype += \", Video\"\n",
    "                    else:\n",
    "                        identified_filetype += \"Video\"\n",
    "                elif zip_content_item.endswith('.csv') or zip_content_item.endswith('.xlsx') or zip_content_item.endswith('.txt'):\n",
    "                    zipObj.extract(zip_content_item, 'Data_Storage\\\\Dataset')\n",
    "                    if identified_filetype != \"\":\n",
    "                        identified_filetype += \", Dataset\"\n",
    "                    else:\n",
    "                        identified_filetype += \"Dataset\"\n",
    "                elif zip_content_item.endswith('.file'):\n",
    "                    zipObj.extract(zip_content_item, 'Data_Storage\\\\Pretrained_models')\n",
    "                    if identified_filetype != \"\":\n",
    "                        identified_filetype += \", Pretrained Model\"\n",
    "                    else:\n",
    "                        identified_filetype += \"Pretrained\"\n",
    "                elif zip_content_item.endswith('.json') or zip_content_item.endswith('.vtt'):\n",
    "                    zipObj.extract(zip_content_item, 'Data_Storage\\\\Captions')\n",
    "                    if identified_filetype != \"\":\n",
    "                        identified_filetype += \", Caption\"\n",
    "                    else:\n",
    "                        identified_filetype += \"Caption\"\n",
    "                else:\n",
    "                    zipObj.extract(zip_content_item, 'Data_Storage')\n",
    "                    if identified_filetype != \"\":\n",
    "                        identified_filetype += \", Others\"\n",
    "                    else:\n",
    "                        identified_filetype += \"Others\"\n",
    "    else:\n",
    "        identified_filetype = \"\"\n",
    "        if fn.endswith('.mp4'):  \n",
    "            shutil.copyfile(fc.selected_path+\"\\\\\"+fc.selected_filename, 'Data_Storage\\\\Videos\\\\'+fc.selected_filename)\n",
    "            identified_filetype += \", Videos\" \n",
    "        elif fn.endswith('.csv') or fn.endswith('.xlsx') or fn.endswith('.txt'):\n",
    "            shutil.copyfile(fc.selected_path+\"\\\\\"+fc.selected_filename, 'Data_Storage\\\\Dataset\\\\'+fc.selected_filename)\n",
    "            identified_filetype += \"Dataset\"    \n",
    "        elif fn.endswith('.file'):\n",
    "            shutil.copyfile(fc.selected_path+\"\\\\\"+fc.selected_filename, 'Data_Storage\\\\Pretrained_Models\\\\'+fc.selected_filename)\n",
    "            identified_filetype += \"Pretrained_Model\"\n",
    "        elif fn.endswith('.json') or fn.endswith('.vtt'):\n",
    "            shutil.copyfile(fc.selected_path+\"\\\\\"+fc.selected_filename, 'Data_Storage\\\\Captions\\\\'+fc.selected_filename)\n",
    "            identified_filetype += \", Captions\"\n",
    "        else:\n",
    "            shutil.copyfile(fc.selected_path+\"\\\\\"+fc.selected_filename, 'Data_Storage\\\\'+fc.selected_filename)\n",
    "            identified_filetype += \", Others\"\n",
    "    with output:\n",
    "        print(\"File type identified to be/include: \" + identified_filetype)\n",
    "\n",
    "# Set input file types\n",
    "# submit_upload() function in \"function.py\" sorts input for video, csv/xslx(Dataset)\n",
    "confirmBtn = widgets.Button(\n",
    "    description='Confirm Upload',\n",
    "    tooltip='Confirm',\n",
    ")\n",
    "output = widgets.Output()\n",
    "display(fc)\n",
    "display(confirmBtn, output)\n",
    "confirmBtn.on_click(submit_upload)\n"
   ]
  },
  {
   "cell_type": "markdown",
   "metadata": {},
   "source": [
    "### Adding pipeline\n",
    "This cell will be used to allow the user to select the pipeline."
   ]
  },
  {
   "cell_type": "code",
   "execution_count": 18,
   "metadata": {},
   "outputs": [
    {
     "data": {
      "application/vnd.jupyter.widget-view+json": {
       "model_id": "24ee83b512d7419b80052ff856d61e33",
       "version_major": 2,
       "version_minor": 0
      },
      "text/plain": [
       "Dropdown(description='Select Pipeline:', options=('TSU', 'STEP', 'MS-TCT'), value='TSU')"
      ]
     },
     "metadata": {},
     "output_type": "display_data"
    }
   ],
   "source": [
    "ppl = ['TSU', 'STEP' , 'MS-TCT']\n",
    "ppDropdown = widgets.Dropdown(\n",
    "    options=ppl,\n",
    "    value=ppl[0],\n",
    "    description='Select Pipeline:')\n",
    "\n",
    "display(ppDropdown)"
   ]
  },
  {
   "cell_type": "markdown",
   "metadata": {},
   "source": [
    "### Displaying video with generated captions<br>\n",
    "Here, we will look at selecting a video to generate the captions using the pre-trained model before displaying the video with the captions."
   ]
  },
  {
   "cell_type": "code",
   "execution_count": 19,
   "metadata": {},
   "outputs": [
    {
     "data": {
      "application/vnd.jupyter.widget-view+json": {
       "model_id": "f4fe3e1c240649f38ee56ebbfab802c9",
       "version_major": 2,
       "version_minor": 0
      },
      "text/plain": [
       "FileChooser(path='C:\\Users\\danie\\Desktop\\ict3104-team16-2022-New-UI-Interface\\Data_Storage\\Videos', filename='…"
      ]
     },
     "metadata": {},
     "output_type": "display_data"
    }
   ],
   "source": [
    "\n",
    "def getVideoList():\n",
    "    video_folder = os.listdir('Data_Storage/Videos')\n",
    "    list_of_video = {}\n",
    "    for video in video_folder:\n",
    "        # remove hidden file especially for macOS\n",
    "        if not video.endswith('.mp4'):\n",
    "            list_of_video[video] = video\n",
    "    return list_of_video\n",
    "\n",
    "\n",
    "# read action and frame object from file\n",
    "def readCaptionFile(filename,videoName):\n",
    "    # Opening JSON file\n",
    "    f = open(filename)\n",
    "\n",
    "    # returns JSON object as \n",
    "    # a dictionary\n",
    "    data = json.load(f)\n",
    "\n",
    "    # Iterating through the json\n",
    "    # Closing file\n",
    "    f.close()\n",
    "    return data[videoName][\"actions\"]\n",
    "\n",
    "# convert frame to time\n",
    "def convertFrameToTime(frame):\n",
    "    seconds = int(frame/25)\n",
    "    minutes = \"00\"\n",
    "    if seconds >= 60:\n",
    "        minutes = str(seconds // 60)\n",
    "        seconds = seconds % 60\n",
    "    if len(minutes) == 1:\n",
    "        minutes = \"0\" + minutes\n",
    "    seconds = str(seconds)\n",
    "    #may need handle hour\n",
    "    if len(seconds) == 1:\n",
    "        seconds = \"0\" + seconds \n",
    "    return (minutes + \":\" + seconds + \".000\")\n",
    "\n",
    "# read reference text from txt file\n",
    "def readReferenceFile(refFile):\n",
    "    referenceDict = {}\n",
    "    with open(refFile) as f:\n",
    "        lines = f.readlines()\n",
    "    for i in lines:\n",
    "        x = i.split()\n",
    "        referenceDict[str(x[0])] = x[1]\n",
    "    return referenceDict\n",
    "\n",
    "# create caption file\n",
    "def formatCaptionFile(captionList, reference, captionPath):\n",
    "    start = \"WEBVTT\\n\\n\"\n",
    "    captions = []\n",
    "    for i in captionList:\n",
    "        text = reference[str(i[0])]\n",
    "        lines = convertFrameToTime(i[1]) + \" --> \" + convertFrameToTime(i[2]) + \"\\n\" + text + \"\\n\\n\"\n",
    "        captions.append(lines)\n",
    "    f = open(captionPath, \"w\")\n",
    "    f.write(start)\n",
    "    f.writelines(captions)\n",
    "    f.close()\n",
    "\n",
    "output_test = widgets.Output()\n",
    "# ========== FileChooser ==========\n",
    "# Create and display a FileChooser widget\n",
    "fc = FileChooser('./Data_Storage/Videos')\n",
    "display(fc)\n",
    "\n",
    "def play_video(f):\n",
    "    fn = fc.selected_filename\n",
    "    fn = fn.split('.')\n",
    "    src = \"./Data_Storage/Videos/\" + fc.selected_filename\n",
    "    video = io.open(src, 'r+b').read()\n",
    "    encoded = base64.b64encode(video)\n",
    "    #location of reference are place at root\n",
    "    ref = readReferenceFile('./Data_Storage/all_labels.txt')\n",
    "    # may need change the caption path to dynamic\n",
    "    \n",
    "    caption_location = './Data_Storage/Captions/' + fn[0] + \".vtt\"\n",
    "    # model result file should be some directory, here using root \n",
    "    captionList = readCaptionFile('./Data_Storage/smarthome_CS_51.json', fn[0])\n",
    "    formatCaptionFile(captionList, ref, caption_location)\n",
    "    display(HTML(data='''<video width=\"650\" height=\"360\" controls>\n",
    "        <source src=\"data:video/mp4;base64,{0}\" type=\"video/mp4\" />\n",
    "        <track kind=\"captions\" src={1} srclang=\"en\" label=\"English\" default>\n",
    "        </video>'''.format(encoded.decode('ascii'), caption_location)))\n",
    "        \n",
    "\n",
    "fc.sandbox_path = './Data_Storage/Videos'\n",
    "fc.show_hidden = False\n",
    "fc.show_only_dirs = False\n",
    "fc.title = '<b>Select input video</b>'\n",
    "fc.register_callback(play_video)"
   ]
  },
  {
   "cell_type": "markdown",
   "metadata": {},
   "source": [
    "## Inference"
   ]
  },
  {
   "cell_type": "markdown",
   "metadata": {},
   "source": [
    "### Feature Extraction"
   ]
  },
  {
   "cell_type": "markdown",
   "metadata": {},
   "source": [
    "The following codes will allow the users to select the model and video that will be used for inference."
   ]
  },
  {
   "cell_type": "code",
   "execution_count": 20,
   "metadata": {},
   "outputs": [
    {
     "data": {
      "application/vnd.jupyter.widget-view+json": {
       "model_id": "67911408300e48b7b6838be1bca4e8ff",
       "version_major": 2,
       "version_minor": 0
      },
      "text/plain": [
       "FileChooser(path='C:\\Users\\danie\\Desktop\\ict3104-team16-2022-New-UI-Interface\\Data_Storage\\Pretrained_Models',…"
      ]
     },
     "metadata": {},
     "output_type": "display_data"
    },
    {
     "data": {
      "application/vnd.jupyter.widget-view+json": {
       "model_id": "43d34938a9544a58a4b8ebd46f0e745c",
       "version_major": 2,
       "version_minor": 0
      },
      "text/plain": [
       "Output()"
      ]
     },
     "metadata": {},
     "output_type": "display_data"
    }
   ],
   "source": [
    "mtpList = ['Pretrained_Models', 'Trained_Models']\n",
    "mtp = widgets.Dropdown( #Model Type Picker\n",
    "    options = mtpList,\n",
    "    default = 0,\n",
    "    description = 'Model Type',\n",
    ")\n",
    "\n",
    "def display_inference_model(f):\n",
    "    rs = fc.selected_path+fc.selected_filename\n",
    "    with selectedptmodel:\n",
    "        print(rs + \"has been selected.\")\n",
    "\n",
    "selectedptmodel = widgets.Output()\n",
    "ptmodel = FileChooser('./Data_Storage/'+ mtp.value)\n",
    "ptmodel.sandbox_path = './Data_Storage/'+ mtp.value\n",
    "ptmodel.show_hidden = False\n",
    "ptmodel.filter_pattern = ['*']\n",
    "ptmodel.show_only_dirs = False\n",
    "ptmodel.title = '<b>Select Inference Model</b>'\n",
    "ptmodel.register_callback(display_inference_model)\n",
    "\n",
    "\n",
    "def getVideoList():\n",
    "    video_folder = os.listdir('./Data_Storage/Videos')\n",
    "    list_of_video = {}\n",
    "    for video in video_folder:\n",
    "        # remove hidden file especially for macOS\n",
    "        if video.endswith('.mp4'):\n",
    "            list_of_video[video] = video\n",
    "    return list_of_video\n",
    "\n",
    "\n",
    "display(ptmodel)\n",
    "display(selectedptmodel)\n",
    "\n",
    "# run = f\"python test.py -dataset TSU -mode rgb -split_setting CS -model PDAN -train False -num_channel 512 -lr 0.0002 -kernelsize 3 -APtype map -batch_size 1 -comp_info TSU_CS_RGB_PDAN -load_model {model_src}\"\n",
    "# % {run}\n",
    "\n"
   ]
  },
  {
   "cell_type": "code",
   "execution_count": 21,
   "metadata": {},
   "outputs": [
    {
     "data": {
      "application/vnd.jupyter.widget-view+json": {
       "model_id": "19fa022937ec4a29abbf939d9fa92dd8",
       "version_major": 2,
       "version_minor": 0
      },
      "text/plain": [
       "Dropdown(description='Select Video:', options={'P02T01C06.mp4': 'P02T01C06.mp4', 'P02T01C07.mp4': 'P02T01C07.m…"
      ]
     },
     "metadata": {},
     "output_type": "display_data"
    },
    {
     "data": {
      "application/vnd.jupyter.widget-view+json": {
       "model_id": "0a3b9477a1284c799c4a72faa7c86508",
       "version_major": 2,
       "version_minor": 0
      },
      "text/plain": [
       "Button(description='Confirm', style=ButtonStyle(), tooltip='Confirm')"
      ]
     },
     "metadata": {},
     "output_type": "display_data"
    }
   ],
   "source": [
    "vl = getVideoList()\n",
    "vlDropdown = widgets.Dropdown(\n",
    "    options=vl,\n",
    "    description='Select Video:')\n",
    "\n",
    "\n",
    "confirmBtn = widgets.Button(\n",
    "    description='Confirm',\n",
    "    tooltip='Confirm',\n",
    ")\n",
    "\n",
    "\n",
    "display(vlDropdown)\n",
    "display(confirmBtn)"
   ]
  },
  {
   "cell_type": "markdown",
   "metadata": {},
   "source": [
    "## Training a model"
   ]
  },
  {
   "cell_type": "markdown",
   "metadata": {},
   "source": [
    "### The following codes will allow the user to train a ML model."
   ]
  },
  {
   "cell_type": "markdown",
   "metadata": {},
   "source": [
    "#### Set values for training"
   ]
  },
  {
   "cell_type": "code",
   "execution_count": 22,
   "metadata": {},
   "outputs": [
    {
     "data": {
      "application/vnd.jupyter.widget-view+json": {
       "model_id": "61038ec6ab15467ea6af7366144b96c2",
       "version_major": 2,
       "version_minor": 0
      },
      "text/plain": [
       "IntSlider(value=1000, continuous_update=False, description='Epochs:', max=1000, step=10)"
      ]
     },
     "metadata": {},
     "output_type": "display_data"
    },
    {
     "data": {
      "application/vnd.jupyter.widget-view+json": {
       "model_id": "d73de9c795bd4a96b776e0b7485d1515",
       "version_major": 2,
       "version_minor": 0
      },
      "text/plain": [
       "IntSlider(value=2, continuous_update=False, description='Batch size:', max=4, min=1)"
      ]
     },
     "metadata": {},
     "output_type": "display_data"
    },
    {
     "data": {
      "application/vnd.jupyter.widget-view+json": {
       "model_id": "84498622bc6d47b790c16a92af8d22f0",
       "version_major": 2,
       "version_minor": 0
      },
      "text/plain": [
       "Button(description='Start Training', style=ButtonStyle(), tooltip='Run')"
      ]
     },
     "metadata": {},
     "output_type": "display_data"
    }
   ],
   "source": [
    "#Imports\n",
    "import ipywidgets as widgets\n",
    "from IPython.display import clear_output\n",
    "\n",
    "trainBool = False\n",
    "\n",
    "\n",
    "batchsize_slider = widgets.IntSlider(\n",
    "    value=2,\n",
    "    min=1,\n",
    "    max=4,\n",
    "    step=1,\n",
    "    description='Batch size:',\n",
    "    continuous_update=False\n",
    ")\n",
    "\n",
    "epoch_slider = widgets.IntSlider(\n",
    "    value=1000,\n",
    "    min=0,\n",
    "    max=1000,\n",
    "    step=10,\n",
    "    description='Epochs:',\n",
    "    continuous_update=False\n",
    ")\n",
    "\n",
    "run_training_model = widgets.Button(\n",
    "    description='Start Training',\n",
    "    tooltip='Run',\n",
    ")\n",
    "\n",
    "\n",
    "pretrained_model_folder = os.listdir('./Data_Storage/Pretrained_Models')\n",
    "\n",
    "list_of_ptModels = {}\n",
    "for model in pretrained_model_folder:\n",
    "    # remove hidden file especially for macOS\n",
    "    if not model.startswith('.'):\n",
    "        list_of_ptModels[model] = model\n",
    "\n",
    "evaluation_dropdown = widgets.Dropdown(\n",
    "    options = list_of_ptModels,\n",
    "    description = 'evaluation',\n",
    ")\n",
    "\n",
    "model_src = './Data_Storage/Pretrained_Models/' + evaluation_dropdown.value\n",
    "\n",
    "def start_training():\n",
    "    clear_output(wait=False)\n",
    "    print(\"\\n Starting the process...\")\n",
    "    run = f\"python test.py -dataset TSU -mode rgb -split_setting CS -model PDAN -train False -num_channel 512 -lr 0.0002 -kernelsize 3 -APtype map -batch_size 1 -comp_info TSU_CS_RGB_PDAN -load_model {model_src}\"\n",
    "    !{run}\n",
    "\n",
    "\n",
    "display(epoch_slider)\n",
    "display(batchsize_slider)    \n",
    "display(run_training_model)\n",
    "\n",
    "run_training_model.on_click(start_training)\n"
   ]
  },
  {
   "cell_type": "markdown",
   "metadata": {},
   "source": [
    "### Renaming the Trained Models"
   ]
  },
  {
   "cell_type": "code",
   "execution_count": 28,
   "metadata": {},
   "outputs": [
    {
     "data": {
      "application/vnd.jupyter.widget-view+json": {
       "model_id": "5473605d47864453bad8d9bf4216ad33",
       "version_major": 2,
       "version_minor": 0
      },
      "text/plain": [
       "FileChooser(path='C:\\Users\\danie\\Desktop\\ict3104-team16-2022-New-UI-Interface\\Data_Storage\\Captions', filename…"
      ]
     },
     "metadata": {},
     "output_type": "display_data"
    }
   ],
   "source": [
    "selectedModelLoc = \"\"\n",
    "\n",
    "fcModelRN = FileChooser('./Data_Storage/Captions')\n",
    "fcModelRN.sandbox_path = './Data_Storage/Captions'\n",
    "fcModelRN.show_hidden = False\n",
    "fcModelRN.filter_pattern = ['*']\n",
    "fcModelRN.show_only_dirs = False\n",
    "fcModelRN.title = '<b>Select File to rename</b>'\n",
    "\n",
    "\n",
    "changeName_btn = widgets.Button(\n",
    "    description='Start Training',\n",
    "    tooltip='Run',\n",
    ")\n",
    "\n",
    "# callback function\n",
    "def getName(chooser):\n",
    "    global selectedModelLoc \n",
    "    selectedModelLoc= fcModelRN.selected_path+fcModelRN.selected_filename\n",
    "\n",
    "display(fcModelRN)\n",
    "fcModelRN.register_callback(getName)\n"
   ]
  },
  {
   "cell_type": "code",
   "execution_count": 29,
   "metadata": {},
   "outputs": [
    {
     "data": {
      "application/vnd.jupyter.widget-view+json": {
       "model_id": "99ac80ebe0134ded87fa240adbd43c72",
       "version_major": 2,
       "version_minor": 0
      },
      "text/plain": [
       "Text(value='', placeholder='New Model Name')"
      ]
     },
     "metadata": {},
     "output_type": "display_data"
    },
    {
     "data": {
      "application/vnd.jupyter.widget-view+json": {
       "model_id": "659c7195bb0c4e9da786f8efe9ba10c8",
       "version_major": 2,
       "version_minor": 0
      },
      "text/plain": [
       "Button(description='Save', style=ButtonStyle())"
      ]
     },
     "metadata": {},
     "output_type": "display_data"
    }
   ],
   "source": [
    "modelNN = widgets.Text(\n",
    "        placeholder='New Model Name',\n",
    "        disabled=False\n",
    "    )\n",
    "saveButton = widgets.Button(\n",
    "        description='Save',\n",
    "        disabled=False,\n",
    "    )\n",
    "\n",
    "# callback function\n",
    "def changeName(chooser):\n",
    "    newModelLoc = fcModelRN.selected_path + modelNN.value\n",
    "    if os.path.exists(newModelLoc):\n",
    "         print(\"File name has already been used!\")\n",
    "    else:\n",
    "        print(selectedModelLoc)\n",
    "        print(newModelLoc)\n",
    "        os.rename( selectedModelLoc, newModelLoc)\n",
    "\n",
    "saveButton.on_click(changeName)\n",
    "if selectedModelLoc != \"\":\n",
    "    display(modelNN)\n",
    "    display(saveButton)"
   ]
  },
  {
   "cell_type": "code",
   "execution_count": null,
   "metadata": {},
   "outputs": [],
   "source": []
  },
  {
   "cell_type": "code",
   "execution_count": null,
   "metadata": {},
   "outputs": [],
   "source": []
  }
 ],
 "metadata": {
  "kernelspec": {
   "display_name": "Python 3 (ipykernel)",
   "language": "python",
   "name": "python3"
  },
  "language_info": {
   "codemirror_mode": {
    "name": "ipython",
    "version": 3
   },
   "file_extension": ".py",
   "mimetype": "text/x-python",
   "name": "python",
   "nbconvert_exporter": "python",
   "pygments_lexer": "ipython3",
   "version": "3.7.9"
  },
  "vscode": {
   "interpreter": {
    "hash": "7dfdfc69e8be1f7abebd0f64d7ee31d33ed11d87d01c6db508d515b37a3821e8"
   }
  }
 },
 "nbformat": 4,
 "nbformat_minor": 2
}
