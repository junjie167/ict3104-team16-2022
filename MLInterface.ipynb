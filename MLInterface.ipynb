{
 "cells": [
  {
   "cell_type": "markdown",
   "metadata": {},
   "source": [
    "# Team 16 Toyota SmartHome ML Training"
   ]
  },
  {
   "cell_type": "markdown",
   "metadata": {},
   "source": [
    "## Setting up dependencies"
   ]
  },
  {
   "cell_type": "markdown",
   "metadata": {},
   "source": [
    "#### Check CUDA Version\n",
    "To check if CUDA is available, perform the following:<br>\n",
    "1) Go to device manager\n",
    "2) Expand Display adapters\n",
    "3) Go to https://en.wikipedia.org/wiki/CUDA#GPUs_supported <br>(https://developer.nvidia.com/cuda-gpus has an outdated list e.g. GTX 1050 Ti is not included)\n",
    "4) If exists, Open Command prompt and execute \"nvidia-smi\" or \"nvcc --version\"<br>\n",
    "5) Install pytorch according the CUDA version displayed.<br>\n",
    "<b>CUDA 10.2</b>: No longer available for windows<br>\n",
    "<b>CUDA 11.3</b>: conda install pytorch torchvision torchaudio cudatoolkit=11.3 -c pytorch<br>\n",
    "<b>CUDA 11.6</b>: conda install pytorch torchvision torchaudio cudatoolkit=11.6 -c pytorch -c conda-forge<br>\n",
    "<b>CPU</b>: conda install pytorch torchvision torchaudio cpuonly -c pytorch<br>"
   ]
  },
  {
   "cell_type": "markdown",
   "metadata": {},
   "source": [
    "#### Additional Dependencies"
   ]
  },
  {
   "cell_type": "markdown",
   "metadata": {},
   "source": [
    "Setup Virtual Environment\n",
    "Run in Terminal:\n",
    "- virtualenv .venv\n",
    "- pip install -r requirements.txt"
   ]
  },
  {
   "cell_type": "markdown",
   "metadata": {},
   "source": [
    "#### Importing Libraries"
   ]
  },
  {
   "cell_type": "code",
   "execution_count": 1,
   "metadata": {},
   "outputs": [],
   "source": [
    "from ipywidgets import widgets, Button\n",
    "from IPython.display import display, HTML, Video\n",
    "from ipyfilechooser import FileChooser\n",
    "import os\n",
    "import io\n",
    "import base64\n",
    "from uploadData import UploadData"
   ]
  },
  {
   "cell_type": "markdown",
   "metadata": {},
   "source": [
    "### Show/Hide code cells\n",
    "\n",
    "By default, the code base in each cell will be hidden for secuirty purposes. However, you still can view the code if you clicked on the toggle button below to show or hide the code in the cell."
   ]
  },
  {
   "cell_type": "code",
   "execution_count": null,
   "metadata": {},
   "outputs": [],
   "source": [
    "HTML('''<script>\n",
    "    code_show=true; \n",
    "    function code_toggle() {\n",
    "     if (code_show){\n",
    "     $('div.input').hide();\n",
    "     } else {\n",
    "     $('div.input').show();\n",
    "     }\n",
    "     code_show = !code_show\n",
    "    } \n",
    "    $( document ).ready(code_toggle);\n",
    "    </script>\n",
    "    <form action=\"javascript:code_toggle()\"><input type=\"submit\" value=\"Click here to toggle on/off the raw code.\"></form>''')"
   ]
  },
  {
   "cell_type": "markdown",
   "metadata": {},
   "source": [
    "## Data Exploration"
   ]
  },
  {
   "cell_type": "markdown",
   "metadata": {},
   "source": [
    "### File Upload"
   ]
  },
  {
   "cell_type": "markdown",
   "metadata": {},
   "source": [
    "The following cell is to upload the file in the respective folder.\n",
    "- Choose the files that you want to upload. The files can be in zip format.\n",
    "- Click on the confirmation button to upload the file to the respective folder."
   ]
  },
  {
   "cell_type": "code",
   "execution_count": 2,
   "metadata": {},
   "outputs": [
    {
     "data": {
      "application/vnd.jupyter.widget-view+json": {
       "model_id": "ce5414b289724bf8a39cbc14dae065d4",
       "version_major": 2,
       "version_minor": 0
      },
      "text/plain": [
       "FileChooser(path='/Users', filename='', title='<b>Select file to upload</b>', show_hidden=False, select_desc='…"
      ]
     },
     "metadata": {},
     "output_type": "display_data"
    },
    {
     "data": {
      "application/vnd.jupyter.widget-view+json": {
       "model_id": "d46931e8365742209831182b2c6641cb",
       "version_major": 2,
       "version_minor": 0
      },
      "text/plain": [
       "Button(button_style='success', description='Confirm Upload', style=ButtonStyle(), tooltip='Confirm')"
      ]
     },
     "metadata": {},
     "output_type": "display_data"
    },
    {
     "data": {
      "application/vnd.jupyter.widget-view+json": {
       "model_id": "f03a053fa77045f7846e0e3abf3ddc28",
       "version_major": 2,
       "version_minor": 0
      },
      "text/plain": [
       "Output()"
      ]
     },
     "metadata": {},
     "output_type": "display_data"
    }
   ],
   "source": [
    "# Creates FileChooser and setting default directory (https://pypi.org/project/ipyfilechooser/)\n",
    "fc = FileChooser('/Users')\n",
    "fc.title = '<b>Select file to upload</b>'\n",
    "# Restrict navigation to /Users\n",
    "fc.sandbox_path = '/Users'\n",
    "# Change hidden files\n",
    "fc.show_hidden = False\n",
    "# Customize dir icon\n",
    "# fc.dir_icon = '/'\n",
    "# fc.dir_icon_append = True\n",
    "\n",
    "# Upload data function\n",
    "def submit_upload(b):\n",
    "    fn = fc.selected_filename\n",
    "    identified_filetype, identified_file = UploadData.upload_data(fn, fc)\n",
    "    with output:\n",
    "        print(f\"File: {identified_file}\")\n",
    "        print(\"File type identified to be/include: \" + identified_filetype)\n",
    "\n",
    "# Set input file types\n",
    "# submit_upload() function in \"function.py\" sorts input for video, csv/xslx(Dataset)\n",
    "confirmBtn = widgets.Button(\n",
    "    description='Confirm Upload',\n",
    "    tooltip='Confirm',\n",
    "    button_style='success',\n",
    ")\n",
    "output = widgets.Output()\n",
    "display(fc)\n",
    "display(confirmBtn, output)\n",
    "confirmBtn.on_click(submit_upload)\n"
   ]
  },
  {
   "cell_type": "markdown",
   "metadata": {},
   "source": [
    "### Displaying video with generated captions<br>\n",
    "Here, we will look at selecting a video to generate the captions using the pre-trained model before displaying the video with the captions.\n",
    "\n",
    "#### 1. Select a video from the Video Folder\n",
    "- Choose a video from the directory.\n",
    "- Click on the confirmation button to confirm the selection of the video."
   ]
  },
  {
   "cell_type": "code",
   "execution_count": null,
   "metadata": {},
   "outputs": [],
   "source": [
    "# ========== FileChooser ==========\n",
    "# Create and display a FileChooser widget\n",
    "fc = FileChooser('./Data_Storage/Videos')\n",
    "display(fc)\n",
    "\n",
    "confirmBtn = widgets.Button(\n",
    "    description='Confirm Selection',\n",
    "    tooltip='Confirm',\n",
    "    button_style='success',\n",
    ")\n",
    "\n",
    "# Confirm Video Selection\n",
    "def submit_videoSelection(b):\n",
    "    if fc.selected_filename is not None:\n",
    "        with output:\n",
    "            print(f\"{fc.selected_filename} is selected\")\n",
    "    else:\n",
    "        display(HTML('''\n",
    "    <h3 style=\"color:red;\">Error: Please select a video.</h3>'''))\n",
    "\n",
    "fc.sandbox_path = './Data_Storage/Videos'\n",
    "fc.show_hidden = False\n",
    "fc.show_only_dirs = False\n",
    "fc.title = '<b>Select input video</b>'\n",
    "# fc.register_callback(play_video)\n",
    "output = widgets.Output()\n",
    "display(confirmBtn, output)\n",
    "confirmBtn.on_click(submit_videoSelection)"
   ]
  },
  {
   "cell_type": "markdown",
   "metadata": {},
   "source": [
    "#### 2. Play the selected video\n",
    "\n",
    "- Click on the \"Play Video\" button to start play the video that you have selected previously."
   ]
  },
  {
   "cell_type": "code",
   "execution_count": null,
   "metadata": {},
   "outputs": [],
   "source": [
    "# read action and frame object from file\n",
    "def readCaptionFile(filename,videoName):\n",
    "    \"\"\"\n",
    "    Parameters\n",
    "    ----------\n",
    "    filename: the smarthome json file.\n",
    "    videoName: The name of the selected video.\n",
    "    \n",
    "    Returns\n",
    "    -------\n",
    "    2d-array data\n",
    "    \"\"\"\n",
    "    # Opening JSON file\n",
    "    f = open(filename)\n",
    "\n",
    "    # returns JSON object as \n",
    "    # a dictionary\n",
    "    data = json.load(f)\n",
    "\n",
    "    # Iterating through the json\n",
    "    # Closing file\n",
    "    f.close()\n",
    "    return data[videoName][\"actions\"]\n",
    "\n",
    "# read reference text from txt file\n",
    "def readReferenceFile(refFile):\n",
    "    \"\"\"\n",
    "    Parameters\n",
    "    ----------\n",
    "    refFile: A txt file that contains all the label.\n",
    "    \n",
    "    Returns\n",
    "    -------\n",
    "    referenceDict\n",
    "    \"\"\"\n",
    "    referenceDict = {}\n",
    "    with open(refFile) as f:\n",
    "        lines = f.readlines()\n",
    "    for i in lines:\n",
    "        x = i.split()\n",
    "        referenceDict[str(x[0])] = x[1]\n",
    "    return referenceDict\n",
    "\n",
    "# create caption file\n",
    "def formatCaptionFile(captionList, reference, captionPath):\n",
    "    \"\"\"\n",
    "    Parameters\n",
    "    ----------\n",
    "    captionList: A list of caption.\n",
    "    reference: A dict of reference derived from readReferenceFile function.\n",
    "    captionPath: The path that stored all the caption.\n",
    "    \"\"\"\n",
    "    start = \"WEBVTT\\n\\n\"\n",
    "    captions = []\n",
    "    for i in captionList:\n",
    "        text = reference[str(i[0])]\n",
    "        lines = convertFrameToTime(i[1]) + \" --> \" + convertFrameToTime(i[2]) + \"\\n\" + text + \"\\n\\n\"\n",
    "        captions.append(lines)\n",
    "    f = open(captionPath, \"w\")\n",
    "    f.write(start)\n",
    "    f.writelines(captions)\n",
    "    f.close()\n",
    "\n",
    "# convert frame to time\n",
    "def convertFrameToTime(frame):\n",
    "    \"\"\"\n",
    "    Parameters\n",
    "    ----------\n",
    "    frame: The frame of the video.\n",
    "    \n",
    "    Returns\n",
    "    -------\n",
    "    The time after the conversion of frame to time.\n",
    "    \"\"\"\n",
    "    seconds = int(frame/25)\n",
    "    minutes = \"00\"\n",
    "    if seconds >= 60:\n",
    "        minutes = str(seconds // 60)\n",
    "        seconds = seconds % 60\n",
    "    if len(minutes) == 1:\n",
    "        minutes = \"0\" + minutes\n",
    "    seconds = str(seconds)\n",
    "    #may need handle hour\n",
    "    if len(seconds) == 1:\n",
    "        seconds = \"0\" + seconds \n",
    "    return (minutes + \":\" + seconds + \".000\")\n",
    "\n",
    "play_btn = widgets.Button(\n",
    "    description='Play Video',\n",
    "    tooltip='Confirm',\n",
    "    button_style='primary',\n",
    ")\n",
    "\n",
    "# Play video function\n",
    "def play_video(b):\n",
    "    with output:\n",
    "        print(f\"Start playing {fc.selected_filename} ...........\")\n",
    "    fn = fc.selected_filename\n",
    "    fn = fn.split('.')\n",
    "    src = \"./Data_Storage/Videos/\" + fc.selected_filename\n",
    "    video = io.open(src, 'r+b').read()\n",
    "    encoded = base64.b64encode(video)\n",
    "    #location of reference are place at root\n",
    "    ref = readReferenceFile('./Data_Storage/all_labels.txt')\n",
    "    # may need change the caption path to dynamic\n",
    "    \n",
    "    caption_location = './Data_Storage/Captions/' + fn[0] + \".vtt\"\n",
    "    # model result file should be some directory, here using root \n",
    "    captionList = readCaptionFile('./Data_Storage/smarthome_CS_51.json', fn[0])\n",
    "    formatCaptionFile(captionList, ref, caption_location)\n",
    "    display(HTML(data='''<video width=\"650\" height=\"360\" controls>\n",
    "        <source src=\"data:video/mp4;base64,{0}\" type=\"video/mp4\" />\n",
    "        <track kind=\"captions\" src={1} srclang=\"en\" label=\"English\" default>\n",
    "        </video>'''.format(encoded.decode('ascii'), caption_location)))\n",
    "    \n",
    "output = widgets.Output()\n",
    "display(play_btn, output)\n",
    "play_btn.on_click(play_video)"
   ]
  },
  {
   "cell_type": "markdown",
   "metadata": {},
   "source": [
    "## Inference"
   ]
  },
  {
   "cell_type": "markdown",
   "metadata": {},
   "source": [
    "### Select Testing"
   ]
  },
  {
   "cell_type": "markdown",
   "metadata": {},
   "source": [
    "The following codes will allow the users to select the model for inference.\n",
    "- Choose and select a model in from the respective model folder."
   ]
  },
  {
   "cell_type": "code",
   "execution_count": 4,
   "metadata": {},
   "outputs": [
    {
     "data": {
      "application/vnd.jupyter.widget-view+json": {
       "model_id": "db7234656fea4ed58e08fb2ddbeba4e7",
       "version_major": 2,
       "version_minor": 0
      },
      "text/plain": [
       "FileChooser(path='/Users/junjie/Documents/3104/new_project/ict3104-team16-2022/Data_Storage/Pretrained_Models'…"
      ]
     },
     "metadata": {},
     "output_type": "display_data"
    },
    {
     "data": {
      "application/vnd.jupyter.widget-view+json": {
       "model_id": "50c54aa9341044fba8d52b95abb9b291",
       "version_major": 2,
       "version_minor": 0
      },
      "text/plain": [
       "Output()"
      ]
     },
     "metadata": {},
     "output_type": "display_data"
    }
   ],
   "source": [
    "mtpList = ['Pretrained_Models', 'Trained_Models']\n",
    "mtp = widgets.Dropdown( #Model Type Picker\n",
    "    options = mtpList,\n",
    "    default = 0,\n",
    "    description = 'Model Type',\n",
    ")\n",
    "\n",
    "# Select model function\n",
    "def display_inference_model(f):\n",
    "    rs = ptmodel.selected_path + ptmodel.selected_filename\n",
    "    with selectedptmodel:\n",
    "        print(ptmodel.selected_filename + \" model has been selected.\")\n",
    "\n",
    "selectedptmodel = widgets.Output()\n",
    "ptmodel = FileChooser('./Data_Storage/'+ mtp.value)\n",
    "ptmodel.sandbox_path = './Data_Storage/'+ mtp.value\n",
    "ptmodel.show_hidden = False\n",
    "ptmodel.filter_pattern = ['*']\n",
    "ptmodel.show_only_dirs = False\n",
    "ptmodel.title = '<b>Select Inference Model</b>'\n",
    "ptmodel.register_callback(display_inference_model)\n",
    "display(ptmodel)\n",
    "display(selectedptmodel)\n",
    "# run = f\"python test.py -dataset TSU -mode rgb -split_setting CS -model PDAN -train False -num_channel 512 -lr 0.0002 -kernelsize 3 -APtype map -batch_size 1 -comp_info TSU_CS_RGB_PDAN -load_model {model_src}\"\n",
    "# % {run}\n",
    "\n"
   ]
  },
  {
   "cell_type": "markdown",
   "metadata": {},
   "source": [
    "## Pipeline Selection\n",
    "\n",
    "This section allows you to switch different pipelines for training and testing later. By default, TSU pipeline is selected. You can choose other pipeline from the dropdown list below to be used for the training and testing of your model.\n",
    "\n",
    "You may proceed these pipelines listed below by clicking the link.\n",
    "- [TSU Pipeline](#TSU)\n",
    "- [STEP Pipeline](#STEP)"
   ]
  },
  {
   "cell_type": "code",
   "execution_count": 2,
   "metadata": {},
   "outputs": [
    {
     "data": {
      "application/vnd.jupyter.widget-view+json": {
       "model_id": "292eedde456a40efbf879095571f6b6e",
       "version_major": 2,
       "version_minor": 0
      },
      "text/plain": [
       "Dropdown(description='Pipeline: ', options=('TSU', 'STEP'), value='TSU')"
      ]
     },
     "metadata": {},
     "output_type": "display_data"
    },
    {
     "data": {
      "application/vnd.jupyter.widget-view+json": {
       "model_id": "d90690dbfea545a4a1f40c0f755e4e63",
       "version_major": 2,
       "version_minor": 0
      },
      "text/plain": [
       "Button(button_style='success', description='Confirm Selection', style=ButtonStyle(), tooltip='Confirm')"
      ]
     },
     "metadata": {},
     "output_type": "display_data"
    },
    {
     "data": {
      "application/vnd.jupyter.widget-view+json": {
       "model_id": "1f3b31f4085f4ed6b06b5d67d92d33e5",
       "version_major": 2,
       "version_minor": 0
      },
      "text/plain": [
       "Output()"
      ]
     },
     "metadata": {},
     "output_type": "display_data"
    }
   ],
   "source": [
    "pipelineList = [\"TSU\", \"STEP\"]\n",
    "pipeline_dropdown = widgets.Dropdown(\n",
    "    options = pipelineList,\n",
    "    default = 0,\n",
    "    description = \"Pipeline: \"\n",
    ")\n",
    "confirmBtn = widgets.Button(\n",
    "    description='Confirm Selection',\n",
    "    tooltip='Confirm',\n",
    "    button_style='success',\n",
    ")\n",
    "output = widgets.Output()\n",
    "\n",
    "# Confirm Pipeline Selection\n",
    "@output.capture(clear_output=True)\n",
    "def confirm_pipeline(b):\n",
    "    if pipeline_dropdown.value is not None:\n",
    "        if pipeline_dropdown.value == \"TSU\":\n",
    "            with output:\n",
    "                print(f\"{pipeline_dropdown.value} pipeline is selected\")\n",
    "                display(HTML('''\n",
    "                    <a href=\"#TSU\">Please proceed to TSU section</a>\n",
    "                '''))\n",
    "        elif pipeline_dropdown.value == \"STEP\":\n",
    "            link = \"#STEP\"\n",
    "            with output:\n",
    "                print(f\"{pipeline_dropdown.value} pipeline is selected\")\n",
    "                display(HTML('''\n",
    "                    <a href=\"#STEP\">Please proceed to STEP section</a>\n",
    "                '''))\n",
    "        \n",
    "display(pipeline_dropdown)\n",
    "display(confirmBtn, output)\n",
    "confirmBtn.on_click(confirm_pipeline)"
   ]
  },
  {
   "cell_type": "markdown",
   "metadata": {},
   "source": [
    "## TSU Pipeline <a class=\"anchor\" id=\"TSU\"></a>"
   ]
  },
  {
   "cell_type": "markdown",
   "metadata": {},
   "source": [
    "## Training a model"
   ]
  },
  {
   "cell_type": "markdown",
   "metadata": {},
   "source": [
    "### The following codes will allow the user to train a ML model."
   ]
  },
  {
   "cell_type": "markdown",
   "metadata": {},
   "source": [
    "#### Set values for training\n",
    "\n",
    "- Before proceeding to set epochs and batch size for training, please ensure that you have select at least one inference model from the previous cell."
   ]
  },
  {
   "cell_type": "code",
   "execution_count": 5,
   "metadata": {},
   "outputs": [
    {
     "name": "stdout",
     "output_type": "stream",
     "text": [
      "\n",
      " Starting the process...\n",
      "PDAN\n",
      "batch_size: 1\n",
      "cuda_avail False\n",
      "100%|████████████████████████████████████████| 536/536 [00:04<00:00, 120.28it/s]\n",
      "100%|████████████████████████████████████████| 536/536 [00:02<00:00, 222.95it/s]\n",
      "Traceback (most recent call last):\n",
      "  File \"/Users/junjie/Documents/3104/new_project/ict3104-team16-2022/TSU/test.py\", line 362, in <module>\n",
      "    prob_val, val_loss, val_map, actAccuracy,activityIndexes = val_step(model, 0, dataloaders['val'], 0) \n",
      "  File \"/Users/junjie/Documents/3104/new_project/ict3104-team16-2022/TSU/test.py\", line 322, in val_step\n",
      "    outputs, loss, probs, err = run_network(model, data, gpu, epoch)\n",
      "  File \"/Users/junjie/Documents/3104/new_project/ict3104-team16-2022/TSU/test.py\", line 185, in run_network\n",
      "    inputs = Variable(inputs.cuda(gpu))\n",
      "  File \"/Users/junjie/opt/miniconda3/envs/ict3104/lib/python3.10/site-packages/torch/cuda/__init__.py\", line 221, in _lazy_init\n",
      "    raise AssertionError(\"Torch not compiled with CUDA enabled\")\n",
      "AssertionError: Torch not compiled with CUDA enabled\n"
     ]
    }
   ],
   "source": [
    "#Imports\n",
    "import ipywidgets as widgets\n",
    "from IPython.display import clear_output\n",
    "\n",
    "trainBool = False\n",
    "\n",
    "# UI for batch size\n",
    "batchsize_slider = widgets.IntSlider(\n",
    "    value=2,\n",
    "    min=1,\n",
    "    max=4,\n",
    "    step=1,\n",
    "    description='Batch size:',\n",
    "    continuous_update=False\n",
    ")\n",
    "\n",
    "# UI for epoch\n",
    "epoch_slider = widgets.IntSlider(\n",
    "    value=1000,\n",
    "    min=0,\n",
    "    max=1000,\n",
    "    step=10,\n",
    "    description='Epochs:',\n",
    "    continuous_update=False\n",
    ")\n",
    "\n",
    "# Run training button\n",
    "run_training_model = widgets.Button(\n",
    "    description='Start Training',\n",
    "    tooltip='Run',\n",
    "    button_style='primary',\n",
    ")\n",
    "\n",
    "if ptmodel.selected_filename is not None:\n",
    "    model_src = './Data_Storage/Pretrained_Models/' + ptmodel.selected_filename\n",
    "    \n",
    "    # Start Training function\n",
    "    def start_training(b):\n",
    "        clear_output(wait=False)\n",
    "        print(\"\\n Starting the process...\")\n",
    "        run = f\"python TSU/test.py -dataset TSU -mode rgb -split_setting CS -model PDAN -train False -num_channel 512 -lr 0.0002 -kernelsize 3 -APtype map -batch_size {str(batchsize_slider.value)} -comp_info TSU_CS_RGB_PDAN -load_model {model_src}\"\n",
    "        !{run}\n",
    "\n",
    "    print(\"Epochs and Batch size selection:\")\n",
    "    display(epoch_slider)\n",
    "    display(batchsize_slider)    \n",
    "    display(run_training_model)\n",
    "\n",
    "    run_training_model.on_click(start_training)\n",
    "\n",
    "else:\n",
    "    display(HTML('''\n",
    "    <h3 style=\"color:red;\">Error: Please select a model from the previous cell.</h3>'''))"
   ]
  },
  {
   "cell_type": "markdown",
   "metadata": {},
   "source": [
    "### Renaming the Trained Models\n",
    "\n",
    "This section allows you to choose a trained model and rename it.\n",
    "\n",
    "#### 1. Select Trained Model\n",
    "- Select a trained model from the Trained_Model folder."
   ]
  },
  {
   "cell_type": "code",
   "execution_count": 6,
   "metadata": {},
   "outputs": [
    {
     "data": {
      "application/vnd.jupyter.widget-view+json": {
       "model_id": "9b8db5ff10034bec9367bb88e401e814",
       "version_major": 2,
       "version_minor": 0
      },
      "text/plain": [
       "FileChooser(path='/Users/junjie/Documents/3104/new_project/ict3104-team16-2022/Data_Storage/Captions', filenam…"
      ]
     },
     "metadata": {},
     "output_type": "display_data"
    }
   ],
   "source": [
    "selectedModelLoc = \"\"\n",
    "\n",
    "# FileChooser for trained model\n",
    "fcModelRN = FileChooser('./Data_Storage/Captions')\n",
    "fcModelRN.sandbox_path = './Data_Storage/Captions'\n",
    "fcModelRN.show_hidden = False\n",
    "fcModelRN.filter_pattern = ['*']\n",
    "fcModelRN.show_only_dirs = False\n",
    "fcModelRN.title = '<b>Select File to rename</b>'\n",
    "\n",
    "\n",
    "changeName_btn = widgets.Button(\n",
    "    description='Start Training',\n",
    "    tooltip='Run',\n",
    ")\n",
    "\n",
    "# callback function\n",
    "def getName(chooser):\n",
    "    selectedModelLoc = fcModelRN.selected_path+fcModelRN.selected_filename\n",
    "\n",
    "display(fcModelRN)\n",
    "fcModelRN.register_callback(getName)\n"
   ]
  },
  {
   "cell_type": "markdown",
   "metadata": {},
   "source": [
    "#### 2. Rename selected trained model\n",
    "- Input the name that you wants to change for the selected trained model.\n",
    "- Click on the save button to change the name of the model."
   ]
  },
  {
   "cell_type": "code",
   "execution_count": 7,
   "metadata": {},
   "outputs": [
    {
     "data": {
      "application/vnd.jupyter.widget-view+json": {
       "model_id": "4e5fca2a45c44ad0ba34e7ab6c1f93af",
       "version_major": 2,
       "version_minor": 0
      },
      "text/plain": [
       "Text(value='', description='Name: ', placeholder='New Model Name')"
      ]
     },
     "metadata": {},
     "output_type": "display_data"
    },
    {
     "data": {
      "application/vnd.jupyter.widget-view+json": {
       "model_id": "ff56dadcc2cd47a3afc6742fcbbd15ff",
       "version_major": 2,
       "version_minor": 0
      },
      "text/plain": [
       "Button(button_style='success', description='Save', style=ButtonStyle())"
      ]
     },
     "metadata": {},
     "output_type": "display_data"
    },
    {
     "name": "stdout",
     "output_type": "stream",
     "text": [
      "The model has been renamed from gg to SS\n"
     ]
    }
   ],
   "source": [
    "modelNN = widgets.Text(\n",
    "        placeholder='New Model Name',\n",
    "        description='Name: ',\n",
    "        disabled=False\n",
    "    )\n",
    "saveButton = widgets.Button(\n",
    "        description='Save',\n",
    "        disabled=False,\n",
    "        button_style='success',\n",
    "    )\n",
    "\n",
    "# callback function\n",
    "def changeName(chooser):\n",
    "    if fcModelRN.selected_path is not None:\n",
    "        newModelLoc = fcModelRN.selected_path + modelNN.value\n",
    "        selectedModelLoc = fcModelRN.selected_path+fcModelRN.selected_filename\n",
    "        if os.path.exists(newModelLoc):\n",
    "             print(\"File name has already been used!\")\n",
    "        elif os.path.exists(selectedModelLoc):\n",
    "            os.rename( selectedModelLoc, newModelLoc)\n",
    "            print(f\"The model has been renamed from {fcModelRN.selected_filename} to {modelNN.value}\" )\n",
    "        else:\n",
    "             display(HTML('''\n",
    "        <h3 style=\"color:red;\">Error: Please re-select the file to rename at the previous cell.</h3>'''))\n",
    "    else:\n",
    "         display(HTML('''\n",
    "        <h3 style=\"color:red;\">Error: Please select a file to rename at the previous cell.</h3>'''))\n",
    "\n",
    "saveButton.on_click(changeName)\n",
    "display(modelNN)\n",
    "display(saveButton)"
   ]
  },
  {
   "cell_type": "markdown",
   "metadata": {},
   "source": [
    "## STEP Pipeline <a class=\"anchor\" id=\"STEP\"></a>"
   ]
  },
  {
   "cell_type": "code",
   "execution_count": null,
   "metadata": {},
   "outputs": [],
   "source": []
  }
 ],
 "metadata": {
  "kernelspec": {
   "display_name": "Python 3 (ipykernel)",
   "language": "python",
   "name": "python3"
  },
  "language_info": {
   "codemirror_mode": {
    "name": "ipython",
    "version": 3
   },
   "file_extension": ".py",
   "mimetype": "text/x-python",
   "name": "python",
   "nbconvert_exporter": "python",
   "pygments_lexer": "ipython3",
   "version": "3.10.4"
  },
  "vscode": {
   "interpreter": {
    "hash": "7dfdfc69e8be1f7abebd0f64d7ee31d33ed11d87d01c6db508d515b37a3821e8"
   }
  }
 },
 "nbformat": 4,
 "nbformat_minor": 2
}
